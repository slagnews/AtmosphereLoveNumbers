{
 "cells": [
  {
   "cell_type": "markdown",
   "id": "4a96ddde",
   "metadata": {},
   "source": [
    "### Polytropic atmosphere\n",
    "Here we calculate the Love number for a planet with a solid core and an atmosphere that obeys the $n=2$ polytropic equation of state $P=K\\rho^2$. We use the equation for $\\rho_\\mathrm{atm}(r)$ from Stroch & Lai, where we solve for a value of $K$ that gives us an atmosphere with the same mass as a homogeneous atmosphere with density $\\rho_\\mathrm{atm}$ of the same extent. Then we run ALMA with 5 layers (1 core layer, 4 atmospheric layers) with varying densities. More layers are not possible, as ALMA becomes numerically unstable"
   ]
  },
  {
   "cell_type": "code",
   "execution_count": 18,
   "id": "6a0d3401",
   "metadata": {},
   "outputs": [],
   "source": [
    "import numpy as np\n",
    "import matplotlib.pyplot as plt\n",
    "from src.ALMApy import run_alma, change_param\n",
    "from scipy.optimize import root_scalar\n",
    "from datetime import datetime\n",
    "\n",
    "\n",
    "plt.rcParams.update({\n",
    "    \"text.usetex\": True,\n",
    "    \"font.family\": \"Serif\"\n",
    "})"
   ]
  },
  {
   "cell_type": "code",
   "execution_count": 4,
   "id": "9ce4d7bf",
   "metadata": {},
   "outputs": [],
   "source": [
    "G = 6.67e-11\n",
    "# Dimensions\n",
    "R_jupiter = 69.9e6\n",
    "m_neptune = 1.024e26\n",
    "R_neptune = 24.6e6\n",
    "rho_neptune = m_neptune/(4*np.pi/3*R_neptune**3)\n",
    "m_jupiter = 1.898e27\n",
    "\n",
    "# Material properties\n",
    "rho_air = 1.293\n",
    "rigidity_air = 1e-7\n",
    "viscosity_air = 3e-5\n",
    "rigidity_earth = 1e11\n",
    "viscosity_earth = 1e21"
   ]
  },
  {
   "cell_type": "code",
   "execution_count": 5,
   "id": "e4279fff",
   "metadata": {},
   "outputs": [],
   "source": [
    "def get_densities(K, R_core, R, rho_atm, rho_core, no_layers):\n",
    "    M_atm = 4*np.pi/3*(R**3-R_core**3)*rho_atm # Target atmosphere density\n",
    "    Mp = M_atm + 4*np.pi/3*R_core**3*rho_core\n",
    "\n",
    "    q = np.sqrt(2*np.pi*G*R**2/K)\n",
    "    rho0 = q**2*Mp/(4*np.pi*R**3)\n",
    "    r = np.linspace(R_core, R, no_layers)\n",
    "    rho = rho0*np.sin(q*(1-r/R)/(q*r/R))\n",
    "    return r, rho"
   ]
  },
  {
   "cell_type": "code",
   "execution_count": 6,
   "id": "7d685367",
   "metadata": {},
   "outputs": [],
   "source": [
    "def find_K(K, R_core, R, rho_atm, rho_core):\n",
    "    M_atm = 4*np.pi/3*(R**3-R_core**3)*rho_atm # Target atmosphere density\n",
    "    Mp = 4*np.pi/3*R_core**3*rho_core + M_atm\n",
    "\n",
    "    q = np.sqrt(2*np.pi*G*R**2/K)\n",
    "    rho0 = q**2*Mp/(4*np.pi*R**3)\n",
    "    r = np.linspace(R_core, R, 100)\n",
    "    \n",
    "    dr = r[1]-r[0]\n",
    "    rho = rho0*np.sin(q*(1-r/R)/(q*r/R))\n",
    "    dM = 4*np.pi/3*(r[1:]**3-r[:-1]**3)*rho[:-1]\n",
    "    M = np.sum(dM)\n",
    "    return M-M_atm\n"
   ]
  },
  {
   "cell_type": "code",
   "execution_count": 20,
   "id": "8505e148",
   "metadata": {},
   "outputs": [
    {
     "name": "stderr",
     "output_type": "stream",
     "text": [
      "/home/nielssw/astrovaria/astrovaria_env/lib/python3.12/site-packages/scipy/optimize/_root_scalar.py:327: RuntimeWarning: Derivative was zero.\n",
      "  r, sol = methodc(f, x0, args=args, fprime=fprime, fprime2=None,\n",
      "/tmp/ipykernel_35912/3013371598.py:5: RuntimeWarning: invalid value encountered in sqrt\n",
      "  q = np.sqrt(2*np.pi*G*R**2/K)\n"
     ]
    }
   ],
   "source": [
    "R_core = R_neptune\n",
    "rho_core = rho_neptune\n",
    "R_max = R_jupiter*10\n",
    "rho_atm = rho_air\n",
    "\n",
    "no_layers = 10\n",
    "no_steps = 100\n",
    "k2_array = np.zeros(no_steps)\n",
    "R_array = np.logspace(np.log10(R_core), np.log10(R_max), no_steps)\n",
    "\n",
    "K_array = np.zeros(no_steps)\n",
    "\n",
    "for i in range(no_steps):\n",
    "    sol = root_scalar(find_K, args=(R_core, R_array[i], rho_atm, rho_core), x0=1e7)\n",
    "    K_array[i] = sol.root\n",
    "    "
   ]
  },
  {
   "cell_type": "code",
   "execution_count": 21,
   "id": "12cab161",
   "metadata": {},
   "outputs": [
    {
     "name": "stdout",
     "output_type": "stream",
     "text": [
      "There was an error running the command:0850\n",
      "\n",
      "Program received signal SIGSEGV: Segmentation fault - invalid memory reference.\n",
      "\n",
      "Backtrace for this error:\n",
      "#0  0x733d92023e59 in ???\n",
      "#1  0x733d92022e75 in ???\n",
      "#2  0x733d91c4532f in ???\n",
      "#3  0x5f1e3e81b33e in __fmzm_1_MOD_fm_input_error\n",
      "#4  0x5f1e3e81c362 in __fmzm_1_MOD_fm_undef_inp_zm0\n",
      "#5  0x5f1e3e83beaa in __fmzm_2_MOD_fmeq_zmzm\n",
      "#6  0x5f1e3e918d0e in lubksb_\n",
      "#7  0x5f1e3e9176d7 in love_numbers_\n",
      "#8  0x5f1e3e908f25 in MAIN__\n",
      "#9  0x5f1e3e90b203 in main\n",
      "\n",
      "There was an error running the command:1844\n",
      "\n",
      "Program received signal SIGSEGV: Segmentation fault - invalid memory reference.\n",
      "\n",
      "Backtrace for this error:\n",
      "#0  0x75683ce23e59 in ???\n",
      "#1  0x75683ce22e75 in ???\n",
      "#2  0x75683ca4532f in ???\n",
      "#3  0x5cf396e6833e in __fmzm_1_MOD_fm_input_error\n",
      "#4  0x5cf396e69362 in __fmzm_1_MOD_fm_undef_inp_zm0\n",
      "#5  0x5cf396e88eaa in __fmzm_2_MOD_fmeq_zmzm\n",
      "#6  0x5cf396f65d0e in lubksb_\n",
      "#7  0x5cf396f646d7 in love_numbers_\n",
      "#8  0x5cf396f55f25 in MAIN__\n",
      "#9  0x5cf396f58203 in main\n",
      "\n",
      "There was an error running the command:7689\n",
      "\n",
      "Program received signal SIGSEGV: Segmentation fault - invalid memory reference.\n",
      "\n",
      "Backtrace for this error:\n",
      "#0  0x7afc95423e59 in ???\n",
      "#1  0x7afc95422e75 in ???\n",
      "#2  0x7afc9504532f in ???\n",
      "#3  0x5ac8ad9a833e in __fmzm_1_MOD_fm_input_error\n",
      "#4  0x5ac8ad9a9362 in __fmzm_1_MOD_fm_undef_inp_zm0\n",
      "#5  0x5ac8ad9c8eaa in __fmzm_2_MOD_fmeq_zmzm\n",
      "#6  0x5ac8adaa5d0e in lubksb_\n",
      "#7  0x5ac8adaa46d7 in love_numbers_\n",
      "#8  0x5ac8ada95f25 in MAIN__\n",
      "#9  0x5ac8ada98203 in main\n",
      "\n",
      "100 of 100 done. k2=0.696, eta=0:00:00096393\r"
     ]
    }
   ],
   "source": [
    "rerun_sim = False\n",
    "if rerun_sim:\n",
    "    change_param(\"no_digits\", 256)\n",
    "    change_param(\"gaver_sequence_order\", 16)\n",
    "\n",
    "\n",
    "    start = datetime.now()\n",
    "    for i in range(no_steps):\n",
    "        r, rho = get_densities(K_array[i], R_core, R_array[i], rho_atm, rho_core, no_layers)\n",
    "\n",
    "        radii = np.flip(r).tolist()\n",
    "        densities = np.flip(rho).tolist()\n",
    "        densities[:-1] = densities[1:]\n",
    "        densities[-1] = rho_core\n",
    "\n",
    "        t,k = run_alma(radii = radii,\n",
    "                    densities = densities,\n",
    "                    rigidities = [rigidity_air]*(no_layers-1)+[rigidity_earth],\n",
    "                    viscosities = [viscosity_air]*(no_layers-1)+[viscosity_earth],\n",
    "                    model_types = [\"newton\"]*(no_layers-1)+[\"maxwell\"],\n",
    "                    show_start_stop=False,\n",
    "                    show_output = False)\n",
    "        k2_array[i] = k[0]\n",
    "        print(f\"{i+1} of {no_steps} done. k2={k[0]:.3f}, eta={(datetime.now()-start)/(i+1)*(no_steps-i-1)}\", end=\"\\r\")\n",
    "\n",
    "    # reset default values\n",
    "    change_param(\"no_digits\", 128)\n",
    "    change_param(\"gaver_sequence_order\", 8)\n",
    "\n",
    "    np.savez(\"polytrope_data\", R_array=R_array, k2_array=k2_array, R_core=R_core, rho_core=rho_core, rho_atm=rho_atm)\n",
    "else:\n",
    "    data = np.load(\"polytrope_data\")\n",
    "    k2_array = data.k2_array\n",
    "    R_array = data.R_array\n"
   ]
  },
  {
   "cell_type": "code",
   "execution_count": 22,
   "id": "d572f6b5",
   "metadata": {},
   "outputs": [
    {
     "data": {
      "image/png": "[encoded data removed]",
      "text/plain": [
       "<Figure size 400x300 with 1 Axes>"
      ]
     },
     "metadata": {},
     "output_type": "display_data"
    }
   ],
   "source": [
    "fig, ax = plt.subplots(figsize=(4,3))\n",
    "ax.plot(R_array/R_core, k2_array)\n",
    "ax.set_xlabel(\"$R/R_\\\\mathrm{core}$\")\n",
    "ax.set_ylabel(\"$k_2$\")\n",
    "ax.set_xscale(\"log\")\n",
    "ax.set_yscale(\"log\")\n",
    "plt.show()"
   ]
  },
  {
   "cell_type": "code",
   "execution_count": 30,
   "id": "72a606db",
   "metadata": {},
   "outputs": [
    {
     "data": {
      "image/png": "[encoded data removed]",
      "text/plain": [
       "<Figure size 400x300 with 1 Axes>"
      ]
     },
     "metadata": {},
     "output_type": "display_data"
    }
   ],
   "source": [
    "fig, ax = plt.subplots(figsize=(4,3))\n",
    "ax.plot(R_array/R_core, k2_array*(R_array/R_core)**5)\n",
    "ax.plot(R_array/R_core, (R_array/R_core)**5, label=\"$k_2=3/2$\")\n",
    "ax.axhline(3/(2*(1+19*rigidity_earth/(2*rho_core*R_core*4*np.pi*G/3*rho_core*R_core))), color=\"black\", linestyle=\"--\", label=\"$k_{2,\\\\mathrm{core}}$\")\n",
    "ax.set_xlabel(\"$R/R_\\\\mathrm{core}$\")\n",
    "ax.set_ylabel(\"$k_2$\")\n",
    "ax.set_xscale(\"log\")\n",
    "ax.set_yscale(\"log\")\n",
    "ax.legend()\n",
    "plt.show()"
   ]
  }
 ],
 "metadata": {
  "kernelspec": {
   "display_name": "astrovaria_env",
   "language": "python",
   "name": "python3"
  },
  "language_info": {
   "codemirror_mode": {
    "name": "ipython",
    "version": 3
   },
   "file_extension": ".py",
   "mimetype": "text/x-python",
   "name": "python",
   "nbconvert_exporter": "python",
   "pygments_lexer": "ipython3",
   "version": "3.12.3"
  }
 },
 "nbformat": 4,
 "nbformat_minor": 5
}
