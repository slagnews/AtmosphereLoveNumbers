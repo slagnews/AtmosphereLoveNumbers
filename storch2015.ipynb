{
 "cells": [
  {
   "cell_type": "code",
   "execution_count": 1,
   "id": "caa21202",
   "metadata": {},
   "outputs": [],
   "source": [
    "import numpy as np\n",
    "import matplotlib.pyplot as plt\n",
    "from scipy.special import spherical_jn, spherical_yn\n",
    "from scipy.optimize import root_scalar\n",
    "\n",
    "plt.rcParams.update({\n",
    "    \"text.usetex\": True,\n",
    "    \"font.family\": \"Serif\"\n",
    "})"
   ]
  },
  {
   "cell_type": "markdown",
   "id": "64cbbbfb",
   "metadata": {},
   "source": [
    "### Definition of spherical harmonics"
   ]
  },
  {
   "cell_type": "code",
   "execution_count": 2,
   "id": "4ddba3ec",
   "metadata": {},
   "outputs": [],
   "source": [
    "j1 = lambda z: spherical_jn(1,z)\n",
    "j2 = lambda z: spherical_jn(2,z)\n",
    "y1 = lambda z: spherical_yn(1,z)\n",
    "y2 = lambda z: spherical_yn(2,z)"
   ]
  },
  {
   "cell_type": "markdown",
   "id": "afc94ee3",
   "metadata": {},
   "source": [
    "### Some constants"
   ]
  },
  {
   "cell_type": "code",
   "execution_count": 3,
   "id": "1b5715be",
   "metadata": {},
   "outputs": [],
   "source": [
    "G = 6.67e-11\n",
    "\n",
    "# Dimensions\n",
    "R_jupiter = 69.9e6\n",
    "m_neptune = 1.024e26\n",
    "R_neptune = 24.6e6\n",
    "rho_neptune = m_neptune/(4*np.pi/3*R_neptune**3)\n",
    "m_jupiter = 1.898e27\n",
    "\n",
    "# Material properties\n",
    "rho_air = 1.293\n",
    "rigidity_air = 1e-7\n",
    "viscosity_air = 3e-5\n",
    "rigidity_earth = 1e11\n",
    "viscosity_earth = 1e21"
   ]
  },
  {
   "cell_type": "markdown",
   "id": "7139561d",
   "metadata": {},
   "source": [
    "### Setting simulation parameters"
   ]
  },
  {
   "cell_type": "code",
   "execution_count": 4,
   "id": "8a191d9a",
   "metadata": {},
   "outputs": [],
   "source": [
    "R_core = np.linspace(0.1*R_jupiter,0.6*R_jupiter)\n",
    "R = R_jupiter\n",
    "Mp = m_jupiter\n",
    "mu = 900*1e3*1e5 #shear modulus, \n",
    "rho_core0 = 6000"
   ]
  },
  {
   "cell_type": "markdown",
   "id": "f5978c36",
   "metadata": {},
   "source": [
    "### Storch & Lai Figure 1"
   ]
  },
  {
   "cell_type": "code",
   "execution_count": 5,
   "id": "ea7de421",
   "metadata": {},
   "outputs": [],
   "source": [
    "def rho_core_func(K, R_core, rho_core0):\n",
    "    q = np.sqrt(2*np.pi*G*R**2/K) #eq. 5\n",
    "    rho0 = q**2*Mp/(4*np.pi*R**3) # eq. 6\n",
    "    rho_max = rho0*np.sin(q*(1-R_core/R))/(q*R_core/R) # eq. 7\n",
    "    rho_core = rho_max*3*R**2/(q**2*R_core**2)*(q*R_core/R*1/np.tan(q*(1-R_core/R))+1)\n",
    "    return rho_core-rho_core0\n",
    "\n",
    "K = np.zeros(len(R_core))\n",
    "for i in range(len(R_core)):\n",
    "    #print(i)\n",
    "    #print(np.sqrt(2*np.pi*G*R**2/(1e7)))\n",
    "    sol = root_scalar(lambda x: rho_core_func(x, R_core[i], rho_core0), bracket=[2*G*R**2/np.pi, 1e7])\n",
    "    K[i] = sol.root"
   ]
  },
  {
   "cell_type": "code",
   "execution_count": 6,
   "id": "04cb4547",
   "metadata": {},
   "outputs": [],
   "source": [
    "q = np.sqrt(2*np.pi*G*R**2/K) #eq. 5\n",
    "rho0 = q**2*Mp/(4*np.pi*R**3) # eq. 6\n",
    "rho_max = rho0*np.sin(q*(1-R_core/R))/(q*R_core/R) # eq. 7\n",
    "rho_core = rho_max*3*R**2/(q**2*R_core**2)*(q*R_core/R*1/np.tan(q*(1-R_core/R))+1)\n",
    "g_core = 4*np.pi/3*G*rho_core*R_core\n",
    "\n",
    "mu_bar = 19*mu/(2*rho_core*g_core*R_core)\n",
    "chi_core = q*R_core/R\n",
    "\n",
    "alpha = j1(q)*(chi_core*y1(chi_core)-5*y2(chi_core)) - y1(q)*(chi_core*j1(chi_core)-5*j2(chi_core))\n",
    "lambdaa = y1(q)*j2(chi_core) - j1(q)*y2(chi_core)\n",
    "gamma = j2(q)*(chi_core*y1(chi_core) - 5*y2(chi_core)) - y2(q)*(chi_core*j1(chi_core)-5*j2(chi_core))\n",
    "\n",
    "h2c = 5/q**2*(R/R_core)**3*(alpha*(1+2*mu_bar/(5*(1-rho_max/rho_core)))-3*lambdaa*(1-rho_max/rho_core))**(-1)\n",
    "k2 = 3*h2c/(q*alpha)*(R_core/R)**2*(1-rho_max/rho_core)+5*gamma/(q*alpha)-1 # eq. 24"
   ]
  },
  {
   "cell_type": "code",
   "execution_count": 7,
   "id": "8c146f0f",
   "metadata": {},
   "outputs": [
    {
     "data": {
      "image/png": "[encoded data removed]",
      "text/plain": [
       "<Figure size 400x300 with 1 Axes>"
      ]
     },
     "metadata": {},
     "output_type": "display_data"
    }
   ],
   "source": [
    "fig, ax = plt.subplots(figsize=(4,3))\n",
    "ax.plot(R_core/R, k2)\n",
    "ax.set_xlabel(\"$R_\\\\mathrm{c}/R$\")\n",
    "ax.set_ylabel(\"$k_2$\")\n",
    "plt.show()\n"
   ]
  },
  {
   "cell_type": "markdown",
   "id": "478b663b",
   "metadata": {},
   "source": [
    "### Constant core radius, varying atmosphere\n",
    "The atmosphere used in Storch & Lai is a polytrope in HE, so it is not of homogeneous density. Here we set $\\rho_0$ such that the mass of the atmosphere is equal to the mass of a homogeneous atmosphere with density $\\rho_\\mathrm{atm}$"
   ]
  },
  {
   "cell_type": "code",
   "execution_count": 8,
   "id": "a59a891a",
   "metadata": {},
   "outputs": [
    {
     "name": "stderr",
     "output_type": "stream",
     "text": [
      "/home/nielssw/astrovaria/astrovaria_env/lib/python3.12/site-packages/scipy/optimize/_root_scalar.py:327: RuntimeWarning: Derivative was zero.\n",
      "  r, sol = methodc(f, x0, args=args, fprime=fprime, fprime2=None,\n",
      "/tmp/ipykernel_19469/3404530821.py:5: RuntimeWarning: invalid value encountered in sqrt\n",
      "  q = np.sqrt(2*np.pi*G*R**2/K)\n"
     ]
    }
   ],
   "source": [
    "def find_K(K, R_core, R, rho_atm, rho_core):\n",
    "    M_atm = 4*np.pi/3*(R**3-R_core**3)*rho_atm # Target atmosphere density\n",
    "    Mp = 4*np.pi/3*R_core**3*rho_core + M_atm\n",
    "\n",
    "    q = np.sqrt(2*np.pi*G*R**2/K)\n",
    "    rho0 = q**2*Mp/(4*np.pi*R**3)\n",
    "    r = np.linspace(R_core, R, 100)\n",
    "    dr = r[1]-r[0]\n",
    "    rho = rho0*np.sin(q*(1-r/R)/(q*r/R))\n",
    "    M = np.sum(4*np.pi*r**2*rho*dr)\n",
    "    return M-M_atm\n",
    "\n",
    "\n",
    "R_core = R_neptune\n",
    "rho_core = rho_neptune\n",
    "rho_atm = rho_air\n",
    "R_array = np.logspace(np.log10(R_neptune), np.log10(10*R_jupiter), 100)\n",
    "K_array = np.zeros(len(R_array))\n",
    "\n",
    "for i in range(len(R_array)):\n",
    "    sol = root_scalar(find_K, args=(R_core, R_array[i], rho_atm, rho_core), x0=1e7)\n",
    "    K_array[i] = sol.root\n"
   ]
  },
  {
   "cell_type": "code",
   "execution_count": 9,
   "id": "e31f30ee",
   "metadata": {},
   "outputs": [],
   "source": [
    "def get_k2(K, R, R_core, rho_core, rho_atm, mu):\n",
    "    Mp = 4*np.pi/3*R_core**3*rho_core + 4*np.pi/3*(R**3-R_core**3)*rho_atm\n",
    "\n",
    "    q = np.sqrt(2*np.pi*G*R**2/K) #eq. 5\n",
    "    rho0 = q**2*Mp/(4*np.pi*R**3) # eq. 6\n",
    "    rho_max = rho0*np.sin(q*(1-R_core/R))/(q*R_core/R) # eq. 7\n",
    "    rho_core = rho_max*3*R**2/(q**2*R_core**2)*(q*R_core/R*1/np.tan(q*(1-R_core/R))+1)\n",
    "    g_core = 4*np.pi/3*G*rho_core*R_core\n",
    "\n",
    "    mu_bar = 19*mu/(2*rho_core*g_core*R_core)\n",
    "    chi_core = q*R_core/R\n",
    "\n",
    "    alpha = j1(q)*(chi_core*y1(chi_core)-5*y2(chi_core)) - y1(q)*(chi_core*j1(chi_core)-5*j2(chi_core))\n",
    "    lambdaa = y1(q)*j2(chi_core) - j1(q)*y2(chi_core)\n",
    "    gamma = j2(q)*(chi_core*y1(chi_core) - 5*y2(chi_core)) - y2(q)*(chi_core*j1(chi_core)-5*j2(chi_core))\n",
    "\n",
    "    h2c = 5/q**2*(R/R_core)**3*(alpha*(1+2*mu_bar/(5*(1-rho_max/rho_core)))-3*lambdaa*(1-rho_max/rho_core))**(-1)\n",
    "    k2 = 3*h2c/(q*alpha)*(R_core/R)**2*(1-rho_max/rho_core)+5*gamma/(q*alpha)-1 # eq. 24\n",
    "\n",
    "    return k2"
   ]
  },
  {
   "cell_type": "code",
   "execution_count": 10,
   "id": "559290eb",
   "metadata": {},
   "outputs": [],
   "source": [
    "k2_array = get_k2(K_array, R_array, R_core, rho_core, rho_atm, rigidity_earth)"
   ]
  },
  {
   "cell_type": "code",
   "execution_count": 11,
   "id": "77afb8f3",
   "metadata": {},
   "outputs": [
    {
     "data": {
      "image/png": "[encoded data removed]",
      "text/plain": [
       "<Figure size 400x300 with 1 Axes>"
      ]
     },
     "metadata": {},
     "output_type": "display_data"
    }
   ],
   "source": [
    "fig, ax = plt.subplots(figsize=(4,3))\n",
    "ax.plot(R_array/R_core, k2_array*(R_array/R_core)**5)\n",
    "ax.plot(R_array/R_core, (R_array/R_core)**5)\n",
    "ax.set_xscale(\"log\")\n",
    "ax.set_yscale(\"log\")\n",
    "ax.set_xlabel(\"$R/R_\\\\mathrm{core}$\")\n",
    "ax.set_ylabel(\"$k_2\\\\left(R/R_\\\\mathrm{core}\\\\right)^5$\")\n",
    "plt.show()"
   ]
  }
 ],
 "metadata": {
  "kernelspec": {
   "display_name": "astrovaria_env",
   "language": "python",
   "name": "python3"
  },
  "language_info": {
   "codemirror_mode": {
    "name": "ipython",
    "version": 3
   },
   "file_extension": ".py",
   "mimetype": "text/x-python",
   "name": "python",
   "nbconvert_exporter": "python",
   "pygments_lexer": "ipython3",
   "version": "3.12.3"
  }
 },
 "nbformat": 4,
 "nbformat_minor": 5
}
