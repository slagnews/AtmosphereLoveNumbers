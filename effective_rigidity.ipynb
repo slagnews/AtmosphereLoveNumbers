{
 "cells": [
  {
   "cell_type": "code",
   "execution_count": 1,
   "id": "22736591",
   "metadata": {},
   "outputs": [],
   "source": [
    "from src.ALMApy import get_k2_vs_radius\n",
    "import numpy as np\n",
    "import matplotlib.pyplot as plt\n",
    "import matplotlib.cm as cm\n",
    "import matplotlib.colors as mcolors\n",
    "from scipy.optimize import curve_fit\n",
    "\n",
    "\n",
    "plt.rcParams.update({\n",
    "    \"text.usetex\": True,\n",
    "    \"font.family\": \"Serif\"\n",
    "})"
   ]
  },
  {
   "cell_type": "markdown",
   "id": "f27e9fb6",
   "metadata": {},
   "source": [
    "### Some constants"
   ]
  },
  {
   "cell_type": "code",
   "execution_count": 2,
   "id": "8b1c28d6",
   "metadata": {},
   "outputs": [],
   "source": [
    "G = 6.67e-11\n",
    "\n",
    "# Dimensions\n",
    "R_jupiter = 69.9e6\n",
    "m_neptune = 1.024e26\n",
    "R_neptune = 24.6e6\n",
    "rho_neptune = m_neptune/(4*np.pi/3*R_neptune**3)\n",
    "\n",
    "# Material properties\n",
    "rho_air = 1.293\n",
    "rigidity_air = 1e-7\n",
    "viscosity_air = 3e-5\n",
    "rigidity_earth = 1e11\n",
    "viscosity_earth = 1e21\n"
   ]
  },
  {
   "cell_type": "markdown",
   "id": "42d0ff52",
   "metadata": {},
   "source": [
    "### Model parameters"
   ]
  },
  {
   "cell_type": "code",
   "execution_count": 3,
   "id": "0963c9cf",
   "metadata": {},
   "outputs": [],
   "source": [
    "no_atm_radii = 100\n",
    "log_max_atm_radius = 1 #maximum radius = 10**log_max_atm_radius * R_jupiter\n",
    "\n",
    "no_core_radii = 10\n",
    "min_core_radius = 0.5*R_neptune\n",
    "max_core_radius = 5*R_neptune\n",
    "core_radii = np.linspace(min_core_radius, max_core_radius, no_core_radii)"
   ]
  },
  {
   "cell_type": "markdown",
   "id": "609c0f06",
   "metadata": {},
   "source": [
    "### Run ALMA upto a giant atmosphere\n",
    "Takes ~16 s"
   ]
  },
  {
   "cell_type": "code",
   "execution_count": 4,
   "id": "519af3d2",
   "metadata": {},
   "outputs": [],
   "source": [
    "log_max_atm_radius = 3\n",
    "atm_radii = (np.logspace(-3,log_max_atm_radius,no_atm_radii)-10**-3)*R_jupiter+min_core_radius\n",
    "k2 = get_k2_vs_radius(min_core_radius, atm_radii, [rho_air, rho_neptune], [rigidity_air, rigidity_earth], [viscosity_air, viscosity_earth])\n",
    "giant_atmosphere = {\"core_radius\": min_core_radius,\n",
    "                    \"radius\": atm_radii,\n",
    "                    \"k2\": k2}"
   ]
  },
  {
   "cell_type": "markdown",
   "id": "c14f8b2b",
   "metadata": {},
   "source": [
    "### Calculate the effective rigidity as a function of $R$\n",
    "The Love number of a homogeneous sphere is given by\n",
    "$$\n",
    "k_2=\\frac{3}{2\\left(1+\\frac{19\\mu}{2\\rho gR}\\right)}\n",
    "$$\n",
    "with $\\mu$ the rigidity, $\\rho$ the density, $g=\\frac{4\\pi}{3}\\rho R$ the surface gravity and $R$ the radius.\n",
    "\n",
    "For a planet that is made up of two layers: a core with rigidity $\\mu_\\mathrm{core}$, radius $R_\\mathrm{core}$ and density $\\rho_\\mathrm{core}$ and a fluid atmosphere with density $\\rho_\\mathrm{atm}$ that extends to the planet's surface at $R$, the mean density is\n",
    "$$\n",
    "\\overline{\\rho}=\\frac{M}{\\frac{4\\pi}{3}R^3}=\\frac{\\rho_\\mathrm{core}R_\\mathrm{core}^3+\\rho_\\mathrm{atm}\\left(R^3-R_\\mathrm{core}^3\\right)}{R^3}\n",
    "$$\n",
    "using\n",
    "$$\n",
    "x\\equiv \\frac{R_\\mathrm{core}}{R}\n",
    "$$\n",
    "this becomes\n",
    "$$\n",
    "\\overline{\\rho}=\\frac{\\rho_\\mathrm{core}+\\rho_\\mathrm{atm}\\left(1-x^3\\right)}{x^3}.\n",
    "$$\n",
    "Furthermore the surface gravity is\n",
    "$$\n",
    "g=\\frac{GM}{R^2}=\\frac{4\\pi}{3}G\\overline{\\rho}R\n",
    "$$\n",
    "which, expressed in $x$, becomes\n",
    "$$\n",
    "g = \\frac{4\\pi}{3}GR_\\mathrm{core}\\frac{\\rho_\\mathrm{core}+\\rho_\\mathrm{atm}\\left(1-x^3\\right)}{x^2}\n",
    "$$\n",
    "In an attempt to find a suitable analytical expression for this planetary model, we also need a suitable expression for the effective rigidity $\\overline{\\mu}$ which will yield a good approximation of the Love number $k_2$. When calculating the Love number using ALMA, we can calculate this effective rigidity using\n",
    "$$\n",
    "\\overline{\\mu}=\\frac{2g\\rho R}{19}\\left(\\frac{3}{2k_2}-1\\right).\n",
    "$$\n",
    "This effective rigidity is plotted below"
   ]
  },
  {
   "cell_type": "code",
   "execution_count": null,
   "id": "b1b4dba6",
   "metadata": {},
   "outputs": [],
   "source": [
    "G = 6.67e-11\n",
    "mu_core = rigidity_earth#1e11\n",
    "R_core = min_core_radius#2.5e7\n",
    "rho_core = rho_neptune#1640\n",
    "rho_atm = rho_air#1.3\n",
    "\n",
    "def mu(x):\n",
    "    return mu_core*x**-3#2*mu_core/(1+x**4)#0.4\n",
    "\n",
    "def g(x):\n",
    "   return 4*np.pi/3*G*R_core*(rho_core+rho_atm*(x**3-1))/x**2\n",
    "\n",
    "def rho(x):\n",
    "    return (rho_core+rho_atm*(x**3-1))/x**3\n",
    "\n",
    "def k2(x):\n",
    "    return 3/(2*(1+19*mu(x)/(2*g(x)*rho(x)*x*R_core)))\n",
    "\n",
    "x_interp = np.logspace(0,6,100)\n",
    "\n",
    "\n",
    "R_atm = giant_atmosphere[\"radius\"]\n",
    "k2_values = giant_atmosphere[\"k2\"]\n",
    "\n",
    "x = R_atm/min_core_radius\n",
    "\n",
    "mu_sim = 2*g(x)*rho(x)*R_core*x/19*(3/(2*k2_values)-1)\n"
   ]
  },
  {
   "cell_type": "code",
   "execution_count": 12,
   "id": "97c0fd63",
   "metadata": {},
   "outputs": [
    {
     "data": {
      "image/png": "[encoded data removed]",
      "text/plain": [
       "<Figure size 400x300 with 1 Axes>"
      ]
     },
     "metadata": {},
     "output_type": "display_data"
    }
   ],
   "source": [
    "fig, ax = plt.subplots(figsize=(4,3))\n",
    "ax.plot(x[:-10],mu_sim[:-10])\n",
    "ax.set_xscale(\"log\")\n",
    "ax.set_yscale(\"log\")\n",
    "ax.set_xlabel(\"$R/R_\\\\mathrm{core}$\")\n",
    "ax.set_ylabel(\"$\\\\overline{\\\\mu}$\")\n",
    "\n",
    "plt.show()"
   ]
  }
 ],
 "metadata": {
  "kernelspec": {
   "display_name": "astrovaria_env",
   "language": "python",
   "name": "python3"
  },
  "language_info": {
   "codemirror_mode": {
    "name": "ipython",
    "version": 3
   },
   "file_extension": ".py",
   "mimetype": "text/x-python",
   "name": "python",
   "nbconvert_exporter": "python",
   "pygments_lexer": "ipython3",
   "version": "3.12.3"
  }
 },
 "nbformat": 4,
 "nbformat_minor": 5
}
